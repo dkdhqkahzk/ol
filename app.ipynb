{
 "cells": [
  {
   "cell_type": "code",
   "execution_count": 23,
   "metadata": {},
   "outputs": [
    {
     "ename": "NameError",
     "evalue": "name 'A' is not defined",
     "output_type": "error",
     "traceback": [
      "\u001b[0;31m---------------------------------------------------------------------------\u001b[0m",
      "\u001b[0;31mNameError\u001b[0m                                 Traceback (most recent call last)",
      "Cell \u001b[0;32mIn[23], line 5\u001b[0m\n\u001b[1;32m      3\u001b[0m b \u001b[39m=\u001b[39m \u001b[39mint\u001b[39m(b)\n\u001b[1;32m      4\u001b[0m c \u001b[39m=\u001b[39m \u001b[39mint\u001b[39m(c)\n\u001b[0;32m----> 5\u001b[0m \u001b[39mprint\u001b[39m((A\u001b[39m+\u001b[39mB)\u001b[39m%\u001b[39mC)\n\u001b[1;32m      6\u001b[0m \u001b[39mprint\u001b[39m(((A\u001b[39m%\u001b[39mC) \u001b[39m+\u001b[39m (B\u001b[39m%\u001b[39mC))\u001b[39m%\u001b[39mC)\n\u001b[1;32m      7\u001b[0m \u001b[39mprint\u001b[39m((A\u001b[39m*\u001b[39mB)\u001b[39m%\u001b[39mC)\n",
      "\u001b[0;31mNameError\u001b[0m: name 'A' is not defined"
     ]
    }
   ],
   "source": [
    "a, b, c = input().split()\n",
    "A = int(a)\n",
    "B = int(b)\n",
    "C = int(c)\n",
    "print((A+B)%C)\n",
    "print(((A%C) + (B%C))%C)\n",
    "print((A*B)%C)\n",
    "print(((A%C)*(B%C))%C)"
   ]
  },
  {
   "cell_type": "code",
   "execution_count": null,
   "metadata": {},
   "outputs": [],
   "source": [
    "a=int(input())\n",
    "b = input()\n",
    "print(a*int(b[2]))\n",
    "print(a*int(b[1]))\n",
    "print(a*int(b[0]))\n",
    "print(a*b)"
   ]
  },
  {
   "cell_type": "code",
   "execution_count": null,
   "metadata": {},
   "outputs": [],
   "source": []
  }
 ],
 "metadata": {
  "kernelspec": {
   "display_name": "Python 3 (ipykernel)",
   "language": "python",
   "name": "python3"
  },
  "language_info": {
   "codemirror_mode": {
    "name": "ipython",
    "version": 3
   },
   "file_extension": ".py",
   "mimetype": "text/x-python",
   "name": "python",
   "nbconvert_exporter": "python",
   "pygments_lexer": "ipython3",
   "version": "3.10.4"
  },
  "orig_nbformat": 4
 },
 "nbformat": 4,
 "nbformat_minor": 2
}
